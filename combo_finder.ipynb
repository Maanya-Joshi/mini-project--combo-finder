{
  "cells": [
    {
      "cell_type": "markdown",
      "metadata": {
        "id": "view-in-github",
        "colab_type": "text"
      },
      "source": [
        "<a href=\"https://colab.research.google.com/github/Maanya-Joshi/mini-project--combo-finder/blob/main/combo_finder.ipynb\" target=\"_parent\"><img src=\"https://colab.research.google.com/assets/colab-badge.svg\" alt=\"Open In Colab\"/></a>"
      ]
    },
    {
      "cell_type": "markdown",
      "source": [
        "combo finder:"
      ],
      "metadata": {
        "id": "RPWeaxucjp_S"
      }
    },
    {
      "cell_type": "code",
      "source": [
        "import random as r\n",
        "product =[\"P1\",\"P2\",\"P3\",\"P4\",\"P5\",\"P6\",\"P7\",\"P8\",\"P9\",\"P10\",\"P11\",\"P12\",\"P13\",\"P14\",\"P15\"]\n",
        "price =[]\n",
        "for i in range(15):\n",
        "  price.append(r.randint(50,450))\n",
        "print (price)\n",
        "for i in range(2,32768):\n",
        "  product_f=[]\n",
        "  n= r.randint(2,15)\n",
        "  f=r.sample(price,n)\n",
        "  if sum(f)== 500:\n",
        "    print(f)\n",
        "    for i in f:\n",
        "      m=price.index(i)\n",
        "      product_f.append(product[m])\n",
        "    print(product_f)"
      ],
      "metadata": {
        "id": "lGNv1kwUjs3t",
        "colab": {
          "base_uri": "https://localhost:8080/"
        },
        "outputId": "54408e1c-2583-4a83-cab2-58b6bf21666b"
      },
      "execution_count": 45,
      "outputs": [
        {
          "output_type": "stream",
          "name": "stdout",
          "text": [
            "[406, 306, 370, 179, 368, 119, 312, 292, 321, 264, 66, 77, 89, 370, 290]\n",
            "[119, 292, 89]\n",
            "['P6', 'P8', 'P13']\n",
            "[321, 179]\n",
            "['P9', 'P4']\n",
            "[179, 321]\n",
            "['P4', 'P9']\n",
            "[321, 179]\n",
            "['P9', 'P4']\n",
            "[292, 89, 119]\n",
            "['P8', 'P13', 'P6']\n",
            "[321, 179]\n",
            "['P9', 'P4']\n",
            "[321, 179]\n",
            "['P9', 'P4']\n",
            "[89, 119, 292]\n",
            "['P13', 'P6', 'P8']\n",
            "[179, 321]\n",
            "['P4', 'P9']\n",
            "[292, 119, 89]\n",
            "['P8', 'P6', 'P13']\n",
            "[321, 179]\n",
            "['P9', 'P4']\n",
            "[321, 179]\n",
            "['P9', 'P4']\n",
            "[179, 321]\n",
            "['P4', 'P9']\n",
            "[119, 89, 292]\n",
            "['P6', 'P13', 'P8']\n",
            "[321, 179]\n",
            "['P9', 'P4']\n",
            "[321, 179]\n",
            "['P9', 'P4']\n",
            "[179, 321]\n",
            "['P4', 'P9']\n",
            "[321, 179]\n",
            "['P9', 'P4']\n",
            "[179, 321]\n",
            "['P4', 'P9']\n",
            "[179, 321]\n",
            "['P4', 'P9']\n",
            "[89, 292, 119]\n",
            "['P13', 'P8', 'P6']\n",
            "[179, 321]\n",
            "['P4', 'P9']\n",
            "[179, 321]\n",
            "['P4', 'P9']\n",
            "[179, 321]\n",
            "['P4', 'P9']\n",
            "[321, 179]\n",
            "['P9', 'P4']\n",
            "[292, 89, 119]\n",
            "['P8', 'P13', 'P6']\n",
            "[179, 321]\n",
            "['P4', 'P9']\n",
            "[321, 179]\n",
            "['P9', 'P4']\n",
            "[179, 321]\n",
            "['P4', 'P9']\n",
            "[179, 321]\n",
            "['P4', 'P9']\n",
            "[321, 179]\n",
            "['P9', 'P4']\n"
          ]
        }
      ]
    }
  ],
  "metadata": {
    "colab": {
      "toc_visible": true,
      "provenance": [],
      "include_colab_link": true
    },
    "kernelspec": {
      "display_name": "Python 3",
      "name": "python3"
    }
  },
  "nbformat": 4,
  "nbformat_minor": 0
}